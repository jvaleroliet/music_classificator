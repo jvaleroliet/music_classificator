{
 "cells": [
  {
   "cell_type": "markdown",
   "metadata": {},
   "source": [
    "# Preprocessing\n",
    "\n",
    "Now that we have our structured audio data, let's perform some preprocessing to prepare it for analysis.\n",
    "\n",
    "Steps:\n",
    "\n",
    "1. Data Splitting: Divide our dataset into training and testing sets to evaluate our model's performance.\n",
    "1. Audio Segmentation: Split each 30-second audio clip into 10 segments of 3 seconds each. This will increase the number of data points and potentially improve model performance.\n",
    "\n",
    "We don't want to have segments of the same song in both training and test sets."
   ]
  },
  {
   "cell_type": "markdown",
   "metadata": {},
   "source": [
    "First construct the audio segmentation function."
   ]
  },
  {
   "cell_type": "code",
   "execution_count": 35,
   "metadata": {},
   "outputs": [],
   "source": [
    "import os\n",
    "import soundfile as sf\n",
    "\n",
    "def split_mp3(file_path, output_dir, segment_duration=3):\n",
    "\n",
    "    y, sr = sf.read(file_path)\n",
    "\n",
    "    # Calculate the number of segments\n",
    "    num_segments = int(len(y) / (sr * segment_duration))\n",
    "\n",
    "    for i in range(num_segments):\n",
    "        start_index = i * sr * segment_duration\n",
    "        end_index = (i + 1) * sr * segment_duration\n",
    "\n",
    "        segment = y[start_index:end_index]\n",
    "\n",
    "        # Create the output file path\n",
    "        file_name = os.path.basename(file_path).replace('.mp3', f'_part{i+1}.mp3')\n",
    "        output_file = os.path.join(output_dir, file_name)\n",
    "\n",
    "        sf.write(output_file, segment, sr)"
   ]
  },
  {
   "cell_type": "markdown",
   "metadata": {},
   "source": [
    "Then the function to split the files into training and testing sets."
   ]
  },
  {
   "cell_type": "code",
   "execution_count": 42,
   "metadata": {},
   "outputs": [],
   "source": [
    "import random\n",
    "import shutil\n",
    "\n",
    "def split_files(source_dir, destination_dir, train_ratio=0.8):\n",
    "\n",
    "    os.makedirs(destination_dir, exist_ok=True)\n",
    "    train_dir = os.path.join(destination_dir, 'train')\n",
    "    test_dir = os.path.join(destination_dir, 'test')\n",
    "    os.makedirs(train_dir, exist_ok=True)\n",
    "    os.makedirs(test_dir, exist_ok=True)  \n",
    "\n",
    "\n",
    "    for genre in os.listdir(source_dir):\n",
    "        genre_dir = os.path.join(source_dir, genre)\n",
    "        if os.path.isdir(genre_dir):\n",
    "            train_genre_dir = os.path.join(train_dir, genre)\n",
    "            test_genre_dir = os.path.join(test_dir, genre)\n",
    "            os.makedirs(train_genre_dir, exist_ok=True)\n",
    "            os.makedirs(test_genre_dir, exist_ok=True)  \n",
    "\n",
    "\n",
    "            files = os.listdir(genre_dir)\n",
    "            random.shuffle(files)\n",
    "            num_files = len(files)\n",
    "            num_train_files = int(num_files * train_ratio)\n",
    "\n",
    "            for i, file in enumerate(files):\n",
    "                file_path = os.path.join(genre_dir, file)\n",
    "                if i < num_train_files:\n",
    "                    shutil.copy(file_path, train_genre_dir)\n",
    "                else:\n",
    "                    shutil.copy(file_path, test_genre_dir)\n"
   ]
  },
  {
   "cell_type": "markdown",
   "metadata": {},
   "source": [
    "Now let's try out. First the splitting into train and test"
   ]
  },
  {
   "cell_type": "code",
   "execution_count": 43,
   "metadata": {},
   "outputs": [],
   "source": [
    "source_dir = 'songs'\n",
    "destination_dir = 'songs_train_test'\n",
    "split_files(source_dir, destination_dir)\n"
   ]
  },
  {
   "cell_type": "markdown",
   "metadata": {},
   "source": [
    "Now let's segment the clips"
   ]
  },
  {
   "cell_type": "code",
   "execution_count": 44,
   "metadata": {},
   "outputs": [],
   "source": [
    "root_dir = \"./songs_train_test/test\"\n",
    "output_dir = \"./split_songs_v2/test\"\n",
    "\n",
    "for genre in os.listdir(root_dir):\n",
    "    genre_dir = os.path.join(root_dir, genre)\n",
    "    output_genre_dir = os.path.join(output_dir, genre)\n",
    "    os.makedirs(output_genre_dir, exist_ok=True)\n",
    "\n",
    "    for file in os.listdir(genre_dir):\n",
    "        if file.endswith('.mp3'):\n",
    "            file_path = os.path.join(genre_dir, file)\n",
    "            split_mp3(file_path, output_genre_dir)\n",
    "\n",
    "root_dir = \"./songs_train_test/train\"\n",
    "output_dir = \"./split_songs_v2/train\"\n",
    "\n",
    "for genre in os.listdir(root_dir):\n",
    "    genre_dir = os.path.join(root_dir, genre)\n",
    "    output_genre_dir = os.path.join(output_dir, genre)\n",
    "    os.makedirs(output_genre_dir, exist_ok=True)\n",
    "\n",
    "    for file in os.listdir(genre_dir):\n",
    "        if file.endswith('.mp3'):\n",
    "            file_path = os.path.join(genre_dir, file)\n",
    "            split_mp3(file_path, output_genre_dir)"
   ]
  },
  {
   "cell_type": "markdown",
   "metadata": {},
   "source": [
    "Done! Let's move to the fun part, the model construction ⁺₊🎧✩°｡"
   ]
  }
 ],
 "metadata": {
  "kernelspec": {
   "display_name": "letstrythis",
   "language": "python",
   "name": "python3"
  },
  "language_info": {
   "codemirror_mode": {
    "name": "ipython",
    "version": 3
   },
   "file_extension": ".py",
   "mimetype": "text/x-python",
   "name": "python",
   "nbconvert_exporter": "python",
   "pygments_lexer": "ipython3",
   "version": "3.11.10"
  }
 },
 "nbformat": 4,
 "nbformat_minor": 2
}
